{
 "cells": [
  {
   "cell_type": "code",
   "execution_count": 1,
   "id": "82649be9",
   "metadata": {},
   "outputs": [
    {
     "name": "stderr",
     "output_type": "stream",
     "text": [
      "DEBUG flower 2023-12-18 14:11:43,721 | connection.py:36 | ChannelConnectivity.IDLE\n",
      "DEBUG flower 2023-12-18 14:11:43,722 | connection.py:36 | ChannelConnectivity.READY\n",
      "INFO flower 2023-12-18 14:11:43,722 | app.py:61 | Opened (insecure) gRPC connection\n",
      "/opt/homebrew/anaconda3/lib/python3.11/site-packages/opacus/privacy_engine.py:645: UserWarning: A ``sample_rate`` has been provided.Thus, the provided ``batch_size``and ``sample_size`` will be ignored.\n",
      "  warnings.warn(\n",
      "/opt/homebrew/anaconda3/lib/python3.11/site-packages/opacus/privacy_engine.py:229: UserWarning: Secure RNG turned off. This is perfectly fine for experimentation as it allows for much faster training performance, but remember to turn it on and retrain one last time before production with ``secure_rng`` turned on.\n",
      "  warnings.warn(\n",
      "  0%|          | 0/94 [00:00<?, ?it/s]/opt/homebrew/anaconda3/lib/python3.11/site-packages/torch/nn/modules/module.py:1359: UserWarning: Using a non-full backward hook when the forward contains multiple autograd Nodes is deprecated and will be removed in future versions. This hook will be missing some grad_input. Please use register_full_backward_hook to get the documented behavior.\n",
      "  warnings.warn(\"Using a non-full backward hook when the forward contains multiple autograd Nodes \"\n"
     ]
    },
    {
     "name": "stdout",
     "output_type": "stream",
     "text": [
      "Files already downloaded and verified\n"
     ]
    },
    {
     "name": "stderr",
     "output_type": "stream",
     "text": [
      "\r",
      "  1%|          | 1/94 [00:00<00:19,  4.77it/s]\r",
      "  1%|          | 1/94 [00:00<00:20,  4.54it/s]\n",
      "Process Process-2:\n",
      "Traceback (most recent call last):\n",
      "  File \"/opt/homebrew/anaconda3/lib/python3.11/multiprocessing/process.py\", line 314, in _bootstrap\n",
      "    self.run()\n",
      "  File \"/opt/homebrew/anaconda3/lib/python3.11/multiprocessing/process.py\", line 108, in run\n",
      "    self._target(*self._args, **self._kwargs)\n",
      "  File \"/Users/dima/Desktop/Federated Learning Project/flower_with_opacus/flower_helpers.py\", line 217, in train\n",
      "    for i, (images, labels) in enumerate(tqdm(train_loader)):\n",
      "  File \"/opt/homebrew/anaconda3/lib/python3.11/site-packages/tqdm/std.py\", line 1178, in __iter__\n",
      "    for obj in iterable:\n",
      "  File \"/opt/homebrew/anaconda3/lib/python3.11/site-packages/torch/utils/data/dataloader.py\", line 630, in __next__\n",
      "    data = self._next_data()\n",
      "           ^^^^^^^^^^^^^^^^^\n",
      "  File \"/opt/homebrew/anaconda3/lib/python3.11/site-packages/torch/utils/data/dataloader.py\", line 674, in _next_data\n",
      "    data = self._dataset_fetcher.fetch(index)  # may raise StopIteration\n",
      "           ^^^^^^^^^^^^^^^^^^^^^^^^^^^^^^^^^^\n",
      "  File \"/opt/homebrew/anaconda3/lib/python3.11/site-packages/torch/utils/data/_utils/fetch.py\", line 49, in fetch\n",
      "    data = self.dataset.__getitems__(possibly_batched_index)\n",
      "           ^^^^^^^^^^^^^^^^^^^^^^^^^^^^^^^^^^^^^^^^^^^^^^^^^\n",
      "  File \"/opt/homebrew/anaconda3/lib/python3.11/site-packages/torch/utils/data/dataset.py\", line 364, in __getitems__\n",
      "    return [self.dataset[self.indices[idx]] for idx in indices]\n",
      "           ^^^^^^^^^^^^^^^^^^^^^^^^^^^^^^^^^^^^^^^^^^^^^^^^^^^^\n",
      "  File \"/opt/homebrew/anaconda3/lib/python3.11/site-packages/torch/utils/data/dataset.py\", line 364, in <listcomp>\n",
      "    return [self.dataset[self.indices[idx]] for idx in indices]\n",
      "            ~~~~~~~~~~~~^^^^^^^^^^^^^^^^^^^\n",
      "  File \"/opt/homebrew/anaconda3/lib/python3.11/site-packages/torchvision/datasets/cifar.py\", line 118, in __getitem__\n",
      "    img = self.transform(img)\n",
      "          ^^^^^^^^^^^^^^^^^^^\n",
      "  File \"/opt/homebrew/anaconda3/lib/python3.11/site-packages/torchvision/transforms/transforms.py\", line 95, in __call__\n",
      "    img = t(img)\n",
      "          ^^^^^^\n",
      "  File \"/opt/homebrew/anaconda3/lib/python3.11/site-packages/torch/nn/modules/module.py\", line 1518, in _wrapped_call_impl\n",
      "    return self._call_impl(*args, **kwargs)\n",
      "           ^^^^^^^^^^^^^^^^^^^^^^^^^^^^^^^^\n",
      "  File \"/opt/homebrew/anaconda3/lib/python3.11/site-packages/torch/nn/modules/module.py\", line 1527, in _call_impl\n",
      "    return forward_call(*args, **kwargs)\n",
      "           ^^^^^^^^^^^^^^^^^^^^^^^^^^^^^\n",
      "  File \"/opt/homebrew/anaconda3/lib/python3.11/site-packages/torchvision/transforms/transforms.py\", line 277, in forward\n",
      "    return F.normalize(tensor, self.mean, self.std, self.inplace)\n",
      "           ^^^^^^^^^^^^^^^^^^^^^^^^^^^^^^^^^^^^^^^^^^^^^^^^^^^^^^\n",
      "  File \"/opt/homebrew/anaconda3/lib/python3.11/site-packages/torchvision/transforms/functional.py\", line 363, in normalize\n",
      "    return F_t.normalize(tensor, mean=mean, std=std, inplace=inplace)\n",
      "           ^^^^^^^^^^^^^^^^^^^^^^^^^^^^^^^^^^^^^^^^^^^^^^^^^^^^^^^^^^\n",
      "  File \"/opt/homebrew/anaconda3/lib/python3.11/site-packages/torchvision/transforms/_functional_tensor.py\", line 920, in normalize\n",
      "    mean = torch.as_tensor(mean, dtype=dtype, device=tensor.device)\n",
      "           ^^^^^^^^^^^^^^^^^^^^^^^^^^^^^^^^^^^^^^^^^^^^^^^^^^^^^^^^\n",
      "KeyboardInterrupt\n",
      "DEBUG flower 2023-12-18 14:11:58,307 | connection.py:68 | Insecure gRPC channel closed\n"
     ]
    },
    {
     "ename": "KeyboardInterrupt",
     "evalue": "",
     "output_type": "error",
     "traceback": [
      "\u001b[0;31m---------------------------------------------------------------------------\u001b[0m",
      "\u001b[0;31mKeyboardInterrupt\u001b[0m                         Traceback (most recent call last)",
      "File \u001b[0;32m~/Desktop/Federated Learning Project/flower_with_opacus/client.py:223\u001b[0m\n\u001b[1;32m    210\u001b[0m     fl\u001b[38;5;241m.\u001b[39mclient\u001b[38;5;241m.\u001b[39mstart_numpy_client(\u001b[38;5;124m\"\u001b[39m\u001b[38;5;124m[::]:8080\u001b[39m\u001b[38;5;124m\"\u001b[39m, client\u001b[38;5;241m=\u001b[39mCifarDpClient(\n\u001b[1;32m    211\u001b[0m         client_share,\n\u001b[1;32m    212\u001b[0m         nbc,\n\u001b[0;32m   (...)\u001b[0m\n\u001b[1;32m    218\u001b[0m         mgn,\n\u001b[1;32m    219\u001b[0m         ))\n\u001b[1;32m    222\u001b[0m \u001b[38;5;28;01mif\u001b[39;00m \u001b[38;5;18m__name__\u001b[39m \u001b[38;5;241m==\u001b[39m \u001b[38;5;124m\"\u001b[39m\u001b[38;5;124m__main__\u001b[39m\u001b[38;5;124m\"\u001b[39m:\n\u001b[0;32m--> 223\u001b[0m     main()\n",
      "File \u001b[0;32m~/Desktop/Federated Learning Project/flower_with_opacus/client.py:210\u001b[0m, in \u001b[0;36mmain\u001b[0;34m()\u001b[0m\n\u001b[1;32m    207\u001b[0m         \u001b[38;5;28;01mreturn\u001b[39;00m \u001b[38;5;28mfloat\u001b[39m(loss), data_size, {\u001b[38;5;124m\"\u001b[39m\u001b[38;5;124maccuracy\u001b[39m\u001b[38;5;124m\"\u001b[39m: \u001b[38;5;28mfloat\u001b[39m(accuracy)}\n\u001b[1;32m    209\u001b[0m \u001b[38;5;66;03m# Start client\u001b[39;00m\n\u001b[0;32m--> 210\u001b[0m fl\u001b[38;5;241m.\u001b[39mclient\u001b[38;5;241m.\u001b[39mstart_numpy_client(\u001b[38;5;124m\"\u001b[39m\u001b[38;5;124m[::]:8080\u001b[39m\u001b[38;5;124m\"\u001b[39m, client\u001b[38;5;241m=\u001b[39mCifarDpClient(\n\u001b[1;32m    211\u001b[0m     client_share,\n\u001b[1;32m    212\u001b[0m     nbc,\n\u001b[1;32m    213\u001b[0m     vbatch_size,\n\u001b[1;32m    214\u001b[0m     batch_size,\n\u001b[1;32m    215\u001b[0m     lr,\n\u001b[1;32m    216\u001b[0m     eps,\n\u001b[1;32m    217\u001b[0m     nm,\n\u001b[1;32m    218\u001b[0m     mgn,\n\u001b[1;32m    219\u001b[0m     ))\n",
      "File \u001b[0;32m/opt/homebrew/anaconda3/lib/python3.11/site-packages/flwr/client/app.py:112\u001b[0m, in \u001b[0;36mstart_numpy_client\u001b[0;34m(server_address, client, grpc_max_message_length)\u001b[0m\n\u001b[1;32m    109\u001b[0m flower_client \u001b[38;5;241m=\u001b[39m NumPyClientWrapper(client)\n\u001b[1;32m    111\u001b[0m \u001b[38;5;66;03m# Start\u001b[39;00m\n\u001b[0;32m--> 112\u001b[0m start_client(\n\u001b[1;32m    113\u001b[0m     server_address\u001b[38;5;241m=\u001b[39mserver_address,\n\u001b[1;32m    114\u001b[0m     client\u001b[38;5;241m=\u001b[39mflower_client,\n\u001b[1;32m    115\u001b[0m     grpc_max_message_length\u001b[38;5;241m=\u001b[39mgrpc_max_message_length,\n\u001b[1;32m    116\u001b[0m )\n",
      "File \u001b[0;32m/opt/homebrew/anaconda3/lib/python3.11/site-packages/flwr/client/app.py:65\u001b[0m, in \u001b[0;36mstart_client\u001b[0;34m(server_address, client, grpc_max_message_length)\u001b[0m\n\u001b[1;32m     63\u001b[0m \u001b[38;5;28;01mwhile\u001b[39;00m \u001b[38;5;28;01mTrue\u001b[39;00m:\n\u001b[1;32m     64\u001b[0m     server_message \u001b[38;5;241m=\u001b[39m receive()\n\u001b[0;32m---> 65\u001b[0m     client_message, sleep_duration, keep_going \u001b[38;5;241m=\u001b[39m handle(\n\u001b[1;32m     66\u001b[0m         client, server_message\n\u001b[1;32m     67\u001b[0m     )\n\u001b[1;32m     68\u001b[0m     send(client_message)\n\u001b[1;32m     69\u001b[0m     \u001b[38;5;28;01mif\u001b[39;00m \u001b[38;5;129;01mnot\u001b[39;00m keep_going:\n",
      "File \u001b[0;32m/opt/homebrew/anaconda3/lib/python3.11/site-packages/flwr/client/grpc_client/message_handler.py:40\u001b[0m, in \u001b[0;36mhandle\u001b[0;34m(client, server_msg)\u001b[0m\n\u001b[1;32m     38\u001b[0m     \u001b[38;5;28;01mreturn\u001b[39;00m _get_parameters(client), \u001b[38;5;241m0\u001b[39m, \u001b[38;5;28;01mTrue\u001b[39;00m\n\u001b[1;32m     39\u001b[0m \u001b[38;5;28;01mif\u001b[39;00m server_msg\u001b[38;5;241m.\u001b[39mHasField(\u001b[38;5;124m\"\u001b[39m\u001b[38;5;124mfit_ins\u001b[39m\u001b[38;5;124m\"\u001b[39m):\n\u001b[0;32m---> 40\u001b[0m     \u001b[38;5;28;01mreturn\u001b[39;00m _fit(client, server_msg\u001b[38;5;241m.\u001b[39mfit_ins), \u001b[38;5;241m0\u001b[39m, \u001b[38;5;28;01mTrue\u001b[39;00m\n\u001b[1;32m     41\u001b[0m \u001b[38;5;28;01mif\u001b[39;00m server_msg\u001b[38;5;241m.\u001b[39mHasField(\u001b[38;5;124m\"\u001b[39m\u001b[38;5;124mevaluate_ins\u001b[39m\u001b[38;5;124m\"\u001b[39m):\n\u001b[1;32m     42\u001b[0m     \u001b[38;5;28;01mreturn\u001b[39;00m _evaluate(client, server_msg\u001b[38;5;241m.\u001b[39mevaluate_ins), \u001b[38;5;241m0\u001b[39m, \u001b[38;5;28;01mTrue\u001b[39;00m\n",
      "File \u001b[0;32m/opt/homebrew/anaconda3/lib/python3.11/site-packages/flwr/client/grpc_client/message_handler.py:57\u001b[0m, in \u001b[0;36m_fit\u001b[0;34m(client, fit_msg)\u001b[0m\n\u001b[1;32m     55\u001b[0m fit_ins \u001b[38;5;241m=\u001b[39m serde\u001b[38;5;241m.\u001b[39mfit_ins_from_proto(fit_msg)\n\u001b[1;32m     56\u001b[0m \u001b[38;5;66;03m# Perform fit\u001b[39;00m\n\u001b[0;32m---> 57\u001b[0m fit_res \u001b[38;5;241m=\u001b[39m client\u001b[38;5;241m.\u001b[39mfit(fit_ins)\n\u001b[1;32m     58\u001b[0m \u001b[38;5;66;03m# Serialize fit result\u001b[39;00m\n\u001b[1;32m     59\u001b[0m fit_res_proto \u001b[38;5;241m=\u001b[39m serde\u001b[38;5;241m.\u001b[39mfit_res_to_proto(fit_res)\n",
      "File \u001b[0;32m/opt/homebrew/anaconda3/lib/python3.11/site-packages/flwr/client/numpy_client.py:179\u001b[0m, in \u001b[0;36mNumPyClientWrapper.fit\u001b[0;34m(self, ins)\u001b[0m\n\u001b[1;32m    177\u001b[0m \u001b[38;5;66;03m# Train\u001b[39;00m\n\u001b[1;32m    178\u001b[0m fit_begin \u001b[38;5;241m=\u001b[39m timeit\u001b[38;5;241m.\u001b[39mdefault_timer()\n\u001b[0;32m--> 179\u001b[0m results \u001b[38;5;241m=\u001b[39m \u001b[38;5;28mself\u001b[39m\u001b[38;5;241m.\u001b[39mnumpy_client\u001b[38;5;241m.\u001b[39mfit(parameters, ins\u001b[38;5;241m.\u001b[39mconfig)\n\u001b[1;32m    180\u001b[0m \u001b[38;5;28;01mif\u001b[39;00m \u001b[38;5;28mlen\u001b[39m(results) \u001b[38;5;241m==\u001b[39m \u001b[38;5;241m2\u001b[39m:\n\u001b[1;32m    181\u001b[0m     \u001b[38;5;28mprint\u001b[39m(DEPRECATION_WARNING_FIT)\n",
      "File \u001b[0;32m~/Desktop/Federated Learning Project/flower_with_opacus/client.py:140\u001b[0m, in \u001b[0;36mmain.<locals>.CifarDpClient.fit\u001b[0;34m(self, parameters, config)\u001b[0m\n\u001b[1;32m    138\u001b[0m p\u001b[38;5;241m.\u001b[39mstart()\n\u001b[1;32m    139\u001b[0m \u001b[38;5;66;03m# Wait for it to end\u001b[39;00m\n\u001b[0;32m--> 140\u001b[0m p\u001b[38;5;241m.\u001b[39mjoin()\n\u001b[1;32m    141\u001b[0m \u001b[38;5;66;03m# Close it\u001b[39;00m\n\u001b[1;32m    142\u001b[0m \u001b[38;5;28;01mtry\u001b[39;00m:\n",
      "File \u001b[0;32m/opt/homebrew/anaconda3/lib/python3.11/multiprocessing/process.py:149\u001b[0m, in \u001b[0;36mBaseProcess.join\u001b[0;34m(self, timeout)\u001b[0m\n\u001b[1;32m    147\u001b[0m \u001b[38;5;28;01massert\u001b[39;00m \u001b[38;5;28mself\u001b[39m\u001b[38;5;241m.\u001b[39m_parent_pid \u001b[38;5;241m==\u001b[39m os\u001b[38;5;241m.\u001b[39mgetpid(), \u001b[38;5;124m'\u001b[39m\u001b[38;5;124mcan only join a child process\u001b[39m\u001b[38;5;124m'\u001b[39m\n\u001b[1;32m    148\u001b[0m \u001b[38;5;28;01massert\u001b[39;00m \u001b[38;5;28mself\u001b[39m\u001b[38;5;241m.\u001b[39m_popen \u001b[38;5;129;01mis\u001b[39;00m \u001b[38;5;129;01mnot\u001b[39;00m \u001b[38;5;28;01mNone\u001b[39;00m, \u001b[38;5;124m'\u001b[39m\u001b[38;5;124mcan only join a started process\u001b[39m\u001b[38;5;124m'\u001b[39m\n\u001b[0;32m--> 149\u001b[0m res \u001b[38;5;241m=\u001b[39m \u001b[38;5;28mself\u001b[39m\u001b[38;5;241m.\u001b[39m_popen\u001b[38;5;241m.\u001b[39mwait(timeout)\n\u001b[1;32m    150\u001b[0m \u001b[38;5;28;01mif\u001b[39;00m res \u001b[38;5;129;01mis\u001b[39;00m \u001b[38;5;129;01mnot\u001b[39;00m \u001b[38;5;28;01mNone\u001b[39;00m:\n\u001b[1;32m    151\u001b[0m     _children\u001b[38;5;241m.\u001b[39mdiscard(\u001b[38;5;28mself\u001b[39m)\n",
      "File \u001b[0;32m/opt/homebrew/anaconda3/lib/python3.11/multiprocessing/popen_fork.py:43\u001b[0m, in \u001b[0;36mPopen.wait\u001b[0;34m(self, timeout)\u001b[0m\n\u001b[1;32m     41\u001b[0m             \u001b[38;5;28;01mreturn\u001b[39;00m \u001b[38;5;28;01mNone\u001b[39;00m\n\u001b[1;32m     42\u001b[0m     \u001b[38;5;66;03m# This shouldn't block if wait() returned successfully.\u001b[39;00m\n\u001b[0;32m---> 43\u001b[0m     \u001b[38;5;28;01mreturn\u001b[39;00m \u001b[38;5;28mself\u001b[39m\u001b[38;5;241m.\u001b[39mpoll(os\u001b[38;5;241m.\u001b[39mWNOHANG \u001b[38;5;28;01mif\u001b[39;00m timeout \u001b[38;5;241m==\u001b[39m \u001b[38;5;241m0.0\u001b[39m \u001b[38;5;28;01melse\u001b[39;00m \u001b[38;5;241m0\u001b[39m)\n\u001b[1;32m     44\u001b[0m \u001b[38;5;28;01mreturn\u001b[39;00m \u001b[38;5;28mself\u001b[39m\u001b[38;5;241m.\u001b[39mreturncode\n",
      "File \u001b[0;32m/opt/homebrew/anaconda3/lib/python3.11/multiprocessing/popen_fork.py:27\u001b[0m, in \u001b[0;36mPopen.poll\u001b[0;34m(self, flag)\u001b[0m\n\u001b[1;32m     25\u001b[0m \u001b[38;5;28;01mif\u001b[39;00m \u001b[38;5;28mself\u001b[39m\u001b[38;5;241m.\u001b[39mreturncode \u001b[38;5;129;01mis\u001b[39;00m \u001b[38;5;28;01mNone\u001b[39;00m:\n\u001b[1;32m     26\u001b[0m     \u001b[38;5;28;01mtry\u001b[39;00m:\n\u001b[0;32m---> 27\u001b[0m         pid, sts \u001b[38;5;241m=\u001b[39m os\u001b[38;5;241m.\u001b[39mwaitpid(\u001b[38;5;28mself\u001b[39m\u001b[38;5;241m.\u001b[39mpid, flag)\n\u001b[1;32m     28\u001b[0m     \u001b[38;5;28;01mexcept\u001b[39;00m \u001b[38;5;167;01mOSError\u001b[39;00m:\n\u001b[1;32m     29\u001b[0m         \u001b[38;5;66;03m# Child process not yet created. See #1731717\u001b[39;00m\n\u001b[1;32m     30\u001b[0m         \u001b[38;5;66;03m# e.errno == errno.ECHILD == 10\u001b[39;00m\n\u001b[1;32m     31\u001b[0m         \u001b[38;5;28;01mreturn\u001b[39;00m \u001b[38;5;28;01mNone\u001b[39;00m\n",
      "\u001b[0;31mKeyboardInterrupt\u001b[0m: "
     ]
    }
   ],
   "source": [
    "%run \"~/Desktop/Federated Learning Project/flower_with_opacus/client.py\""
   ]
  },
  {
   "cell_type": "code",
   "execution_count": null,
   "id": "3c15150a",
   "metadata": {},
   "outputs": [],
   "source": []
  },
  {
   "cell_type": "code",
   "execution_count": null,
   "id": "95025012",
   "metadata": {},
   "outputs": [],
   "source": []
  }
 ],
 "metadata": {
  "kernelspec": {
   "display_name": "Python 3 (ipykernel)",
   "language": "python",
   "name": "python3"
  },
  "language_info": {
   "codemirror_mode": {
    "name": "ipython",
    "version": 3
   },
   "file_extension": ".py",
   "mimetype": "text/x-python",
   "name": "python",
   "nbconvert_exporter": "python",
   "pygments_lexer": "ipython3",
   "version": "3.11.5"
  }
 },
 "nbformat": 4,
 "nbformat_minor": 5
}
