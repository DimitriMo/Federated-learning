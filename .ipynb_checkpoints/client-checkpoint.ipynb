{
 "cells": [
  {
   "cell_type": "code",
   "execution_count": 4,
   "id": "82649be9",
   "metadata": {},
   "outputs": [
    {
     "name": "stderr",
     "output_type": "stream",
     "text": [
      "DEBUG flower 2023-12-03 16:41:17,774 | connection.py:36 | ChannelConnectivity.IDLE\n",
      "INFO flower 2023-12-03 16:41:17,775 | app.py:61 | Opened (insecure) gRPC connection\n",
      "DEBUG flower 2023-12-03 16:41:17,775 | connection.py:36 | ChannelConnectivity.CONNECTING\n",
      "DEBUG flower 2023-12-03 16:41:17,777 | connection.py:36 | ChannelConnectivity.TRANSIENT_FAILURE\n",
      "DEBUG flower 2023-12-03 16:41:17,985 | connection.py:68 | Insecure gRPC channel closed\n"
     ]
    },
    {
     "ename": "_MultiThreadedRendezvous",
     "evalue": "<_MultiThreadedRendezvous of RPC that terminated with:\n\tstatus = StatusCode.UNAVAILABLE\n\tdetails = \"failed to connect to all addresses; last error: UNKNOWN: ipv6:%5B::%5D:8080: Failed to connect to remote host: Connection refused\"\n\tdebug_error_string = \"UNKNOWN:failed to connect to all addresses; last error: UNKNOWN: ipv6:%5B::%5D:8080: Failed to connect to remote host: Connection refused {grpc_status:14, created_time:\"2023-12-03T16:41:17.776954+01:00\"}\"\n>",
     "output_type": "error",
     "traceback": [
      "\u001b[0;31m---------------------------------------------------------------------------\u001b[0m",
      "\u001b[0;31m_MultiThreadedRendezvous\u001b[0m                  Traceback (most recent call last)",
      "File \u001b[0;32m~/Desktop/Federated Learning Project/Test code/flower_opacus_example-main/client.py:218\u001b[0m\n\u001b[1;32m    205\u001b[0m     fl\u001b[38;5;241m.\u001b[39mclient\u001b[38;5;241m.\u001b[39mstart_numpy_client(\u001b[38;5;124m\"\u001b[39m\u001b[38;5;124m[::]:8080\u001b[39m\u001b[38;5;124m\"\u001b[39m, client\u001b[38;5;241m=\u001b[39mCifarDpClient(\n\u001b[1;32m    206\u001b[0m         client_share,\n\u001b[1;32m    207\u001b[0m         nbc,\n\u001b[0;32m   (...)\u001b[0m\n\u001b[1;32m    213\u001b[0m         mgn,\n\u001b[1;32m    214\u001b[0m         ))\n\u001b[1;32m    217\u001b[0m \u001b[38;5;28;01mif\u001b[39;00m \u001b[38;5;18m__name__\u001b[39m \u001b[38;5;241m==\u001b[39m \u001b[38;5;124m\"\u001b[39m\u001b[38;5;124m__main__\u001b[39m\u001b[38;5;124m\"\u001b[39m:\n\u001b[0;32m--> 218\u001b[0m     main()\n",
      "File \u001b[0;32m~/Desktop/Federated Learning Project/Test code/flower_opacus_example-main/client.py:205\u001b[0m, in \u001b[0;36mmain\u001b[0;34m()\u001b[0m\n\u001b[1;32m    202\u001b[0m         \u001b[38;5;28;01mreturn\u001b[39;00m \u001b[38;5;28mfloat\u001b[39m(loss), data_size, {\u001b[38;5;124m\"\u001b[39m\u001b[38;5;124maccuracy\u001b[39m\u001b[38;5;124m\"\u001b[39m: \u001b[38;5;28mfloat\u001b[39m(accuracy)}\n\u001b[1;32m    204\u001b[0m \u001b[38;5;66;03m# Start client\u001b[39;00m\n\u001b[0;32m--> 205\u001b[0m fl\u001b[38;5;241m.\u001b[39mclient\u001b[38;5;241m.\u001b[39mstart_numpy_client(\u001b[38;5;124m\"\u001b[39m\u001b[38;5;124m[::]:8080\u001b[39m\u001b[38;5;124m\"\u001b[39m, client\u001b[38;5;241m=\u001b[39mCifarDpClient(\n\u001b[1;32m    206\u001b[0m     client_share,\n\u001b[1;32m    207\u001b[0m     nbc,\n\u001b[1;32m    208\u001b[0m     vbatch_size,\n\u001b[1;32m    209\u001b[0m     batch_size,\n\u001b[1;32m    210\u001b[0m     lr,\n\u001b[1;32m    211\u001b[0m     eps,\n\u001b[1;32m    212\u001b[0m     nm,\n\u001b[1;32m    213\u001b[0m     mgn,\n\u001b[1;32m    214\u001b[0m     ))\n",
      "File \u001b[0;32m/opt/homebrew/anaconda3/lib/python3.11/site-packages/flwr/client/app.py:112\u001b[0m, in \u001b[0;36mstart_numpy_client\u001b[0;34m(server_address, client, grpc_max_message_length)\u001b[0m\n\u001b[1;32m    109\u001b[0m flower_client \u001b[38;5;241m=\u001b[39m NumPyClientWrapper(client)\n\u001b[1;32m    111\u001b[0m \u001b[38;5;66;03m# Start\u001b[39;00m\n\u001b[0;32m--> 112\u001b[0m start_client(\n\u001b[1;32m    113\u001b[0m     server_address\u001b[38;5;241m=\u001b[39mserver_address,\n\u001b[1;32m    114\u001b[0m     client\u001b[38;5;241m=\u001b[39mflower_client,\n\u001b[1;32m    115\u001b[0m     grpc_max_message_length\u001b[38;5;241m=\u001b[39mgrpc_max_message_length,\n\u001b[1;32m    116\u001b[0m )\n",
      "File \u001b[0;32m/opt/homebrew/anaconda3/lib/python3.11/site-packages/flwr/client/app.py:64\u001b[0m, in \u001b[0;36mstart_client\u001b[0;34m(server_address, client, grpc_max_message_length)\u001b[0m\n\u001b[1;32m     61\u001b[0m log(INFO, \u001b[38;5;124m\"\u001b[39m\u001b[38;5;124mOpened (insecure) gRPC connection\u001b[39m\u001b[38;5;124m\"\u001b[39m)\n\u001b[1;32m     63\u001b[0m \u001b[38;5;28;01mwhile\u001b[39;00m \u001b[38;5;28;01mTrue\u001b[39;00m:\n\u001b[0;32m---> 64\u001b[0m     server_message \u001b[38;5;241m=\u001b[39m receive()\n\u001b[1;32m     65\u001b[0m     client_message, sleep_duration, keep_going \u001b[38;5;241m=\u001b[39m handle(\n\u001b[1;32m     66\u001b[0m         client, server_message\n\u001b[1;32m     67\u001b[0m     )\n\u001b[1;32m     68\u001b[0m     send(client_message)\n",
      "File \u001b[0;32m/opt/homebrew/anaconda3/lib/python3.11/site-packages/flwr/client/grpc_client/connection.py:60\u001b[0m, in \u001b[0;36minsecure_grpc_connection.<locals>.<lambda>\u001b[0;34m()\u001b[0m\n\u001b[1;32m     56\u001b[0m stub \u001b[38;5;241m=\u001b[39m FlowerServiceStub(channel)\n\u001b[1;32m     58\u001b[0m server_message_iterator: Iterator[ServerMessage] \u001b[38;5;241m=\u001b[39m stub\u001b[38;5;241m.\u001b[39mJoin(\u001b[38;5;28miter\u001b[39m(queue\u001b[38;5;241m.\u001b[39mget, \u001b[38;5;28;01mNone\u001b[39;00m))\n\u001b[0;32m---> 60\u001b[0m receive: Callable[[], ServerMessage] \u001b[38;5;241m=\u001b[39m \u001b[38;5;28;01mlambda\u001b[39;00m: \u001b[38;5;28mnext\u001b[39m(server_message_iterator)\n\u001b[1;32m     61\u001b[0m send: Callable[[ClientMessage], \u001b[38;5;28;01mNone\u001b[39;00m] \u001b[38;5;241m=\u001b[39m \u001b[38;5;28;01mlambda\u001b[39;00m msg: queue\u001b[38;5;241m.\u001b[39mput(msg, block\u001b[38;5;241m=\u001b[39m\u001b[38;5;28;01mFalse\u001b[39;00m)\n\u001b[1;32m     63\u001b[0m \u001b[38;5;28;01mtry\u001b[39;00m:\n",
      "File \u001b[0;32m/opt/homebrew/anaconda3/lib/python3.11/site-packages/grpc/_channel.py:541\u001b[0m, in \u001b[0;36m_Rendezvous.__next__\u001b[0;34m(self)\u001b[0m\n\u001b[1;32m    540\u001b[0m \u001b[38;5;28;01mdef\u001b[39;00m \u001b[38;5;21m__next__\u001b[39m(\u001b[38;5;28mself\u001b[39m):\n\u001b[0;32m--> 541\u001b[0m     \u001b[38;5;28;01mreturn\u001b[39;00m \u001b[38;5;28mself\u001b[39m\u001b[38;5;241m.\u001b[39m_next()\n",
      "File \u001b[0;32m/opt/homebrew/anaconda3/lib/python3.11/site-packages/grpc/_channel.py:967\u001b[0m, in \u001b[0;36m_MultiThreadedRendezvous._next\u001b[0;34m(self)\u001b[0m\n\u001b[1;32m    965\u001b[0m     \u001b[38;5;28;01mraise\u001b[39;00m \u001b[38;5;167;01mStopIteration\u001b[39;00m()\n\u001b[1;32m    966\u001b[0m \u001b[38;5;28;01melif\u001b[39;00m \u001b[38;5;28mself\u001b[39m\u001b[38;5;241m.\u001b[39m_state\u001b[38;5;241m.\u001b[39mcode \u001b[38;5;129;01mis\u001b[39;00m \u001b[38;5;129;01mnot\u001b[39;00m \u001b[38;5;28;01mNone\u001b[39;00m:\n\u001b[0;32m--> 967\u001b[0m     \u001b[38;5;28;01mraise\u001b[39;00m \u001b[38;5;28mself\u001b[39m\n",
      "\u001b[0;31m_MultiThreadedRendezvous\u001b[0m: <_MultiThreadedRendezvous of RPC that terminated with:\n\tstatus = StatusCode.UNAVAILABLE\n\tdetails = \"failed to connect to all addresses; last error: UNKNOWN: ipv6:%5B::%5D:8080: Failed to connect to remote host: Connection refused\"\n\tdebug_error_string = \"UNKNOWN:failed to connect to all addresses; last error: UNKNOWN: ipv6:%5B::%5D:8080: Failed to connect to remote host: Connection refused {grpc_status:14, created_time:\"2023-12-03T16:41:17.776954+01:00\"}\"\n>"
     ]
    }
   ],
   "source": [
    "%run \"~/Desktop/Federated Learning Project/Test code/flower_opacus_example-main/client.py\""
   ]
  },
  {
   "cell_type": "code",
   "execution_count": null,
   "id": "f8581774",
   "metadata": {},
   "outputs": [],
   "source": []
  }
 ],
 "metadata": {
  "kernelspec": {
   "display_name": "Python 3 (ipykernel)",
   "language": "python",
   "name": "python3"
  },
  "language_info": {
   "codemirror_mode": {
    "name": "ipython",
    "version": 3
   },
   "file_extension": ".py",
   "mimetype": "text/x-python",
   "name": "python",
   "nbconvert_exporter": "python",
   "pygments_lexer": "ipython3",
   "version": "3.11.5"
  }
 },
 "nbformat": 4,
 "nbformat_minor": 5
}
