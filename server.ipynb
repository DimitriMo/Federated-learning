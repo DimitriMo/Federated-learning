{
 "cells": [
  {
   "cell_type": "code",
   "execution_count": 1,
   "id": "f4e30a6e",
   "metadata": {},
   "outputs": [
    {
     "name": "stderr",
     "output_type": "stream",
     "text": [
      "INFO flower 2023-12-14 09:53:54,346 | app.py:73 | Flower server running (insecure, 4 rounds)\n",
      "INFO flower 2023-12-14 09:53:54,347 | server.py:118 | Getting initial parameters\n",
      "INFO flower 2023-12-14 09:53:54,347 | server.py:300 | Received initial parameters from strategy\n",
      "INFO flower 2023-12-14 09:53:54,347 | server.py:120 | Evaluating initial parameters\n"
     ]
    },
    {
     "name": "stdout",
     "output_type": "stream",
     "text": [
      "Files already downloaded and verified\n"
     ]
    },
    {
     "name": "stderr",
     "output_type": "stream",
     "text": [
      "100%|██████████| 40/40 [00:00<00:00, 50.93it/s]\n"
     ]
    },
    {
     "name": "stdout",
     "output_type": "stream",
     "text": [
      "Test Loss: 2.3198962867259976 Test Accuracy: 0.0845703125\n"
     ]
    },
    {
     "name": "stderr",
     "output_type": "stream",
     "text": [
      "INFO flower 2023-12-14 09:53:58,534 | server.py:123 | initial parameters (loss, other metrics): 2.3198962867259976, {'accuracy': 0.0845703125}\n",
      "INFO flower 2023-12-14 09:53:58,534 | server.py:133 | FL starting\n",
      "DEBUG flower 2023-12-14 10:14:56,254 | server.py:251 | fit_round: strategy sampled 2 clients (out of 2)\n",
      "DEBUG flower 2023-12-14 10:15:11,301 | server.py:260 | fit_round received 0 results and 2 failures\n",
      "WARNING flower 2023-12-14 10:15:11,301 | server.py:276 | \n",
      "DEPRECATION WARNING: The configured Strategy uses a deprecated aggregate_fit\n",
      "return format:\n",
      "\n",
      "    Strategy.aggregate_fit(...) -> Optional[Weights]\n",
      "\n",
      "This format is deprecated and will be removed in a future release. It should use\n",
      "\n",
      "    Strategy.aggregate_fit(...) -> Tuple[Optional[Weights], Dict[str, Scalar]]\n",
      "\n",
      "instead.\n",
      "\n"
     ]
    },
    {
     "name": "stdout",
     "output_type": "stream",
     "text": [
      "Files already downloaded and verified\n"
     ]
    },
    {
     "name": "stderr",
     "output_type": "stream",
     "text": [
      "100%|██████████| 40/40 [00:00<00:00, 42.66it/s]\n"
     ]
    },
    {
     "name": "stdout",
     "output_type": "stream",
     "text": [
      "Test Loss: 2.3198962867259976 Test Accuracy: 0.0845703125\n"
     ]
    },
    {
     "name": "stderr",
     "output_type": "stream",
     "text": [
      "INFO flower 2023-12-14 10:15:16,208 | server.py:148 | fit progress: (1, 2.3198962867259976, {'accuracy': 0.0845703125}, 1277.6402874999999)\n",
      "INFO flower 2023-12-14 10:15:16,209 | server.py:199 | evaluate_round: no clients selected, cancel\n"
     ]
    },
    {
     "name": "stdout",
     "output_type": "stream",
     "text": [
      "0 client(s) available(s), waiting for 2 availables to continue.\n"
     ]
    },
    {
     "name": "stderr",
     "output_type": "stream",
     "text": [
      "DEBUG flower 2023-12-14 10:15:19,805 | server.py:251 | fit_round: strategy sampled 2 clients (out of 2)\n",
      "DEBUG flower 2023-12-14 10:15:38,622 | server.py:260 | fit_round received 2 results and 0 failures\n"
     ]
    },
    {
     "name": "stdout",
     "output_type": "stream",
     "text": [
      "Privacy budget ε at round 2: 1.2400593267998363\n",
      "Files already downloaded and verified\n"
     ]
    },
    {
     "name": "stderr",
     "output_type": "stream",
     "text": [
      "100%|██████████| 40/40 [00:00<00:00, 50.46it/s]\n"
     ]
    },
    {
     "name": "stdout",
     "output_type": "stream",
     "text": [
      "Test Loss: 1.9369868874549865 Test Accuracy: 0.3013671875\n"
     ]
    },
    {
     "name": "stderr",
     "output_type": "stream",
     "text": [
      "INFO flower 2023-12-14 10:15:42,735 | server.py:148 | fit progress: (2, 1.9369868874549865, {'accuracy': 0.3013671875}, 1304.1676357499998)\n",
      "INFO flower 2023-12-14 10:15:42,736 | server.py:199 | evaluate_round: no clients selected, cancel\n",
      "DEBUG flower 2023-12-14 10:15:42,736 | server.py:251 | fit_round: strategy sampled 2 clients (out of 2)\n",
      "DEBUG flower 2023-12-14 10:16:01,731 | server.py:260 | fit_round received 2 results and 0 failures\n"
     ]
    },
    {
     "name": "stdout",
     "output_type": "stream",
     "text": [
      "Privacy budget ε at round 3: 1.3729131593648185\n",
      "Files already downloaded and verified\n"
     ]
    },
    {
     "name": "stderr",
     "output_type": "stream",
     "text": [
      "100%|██████████| 40/40 [00:00<00:00, 49.83it/s]\n"
     ]
    },
    {
     "name": "stdout",
     "output_type": "stream",
     "text": [
      "Test Loss: 1.8917137056589126 Test Accuracy: 0.36464843750000003\n"
     ]
    },
    {
     "name": "stderr",
     "output_type": "stream",
     "text": [
      "INFO flower 2023-12-14 10:16:05,952 | server.py:148 | fit progress: (3, 1.8917137056589126, {'accuracy': 0.36464843750000003}, 1327.38468025)\n",
      "INFO flower 2023-12-14 10:16:05,953 | server.py:199 | evaluate_round: no clients selected, cancel\n",
      "DEBUG flower 2023-12-14 10:16:05,953 | server.py:251 | fit_round: strategy sampled 2 clients (out of 2)\n",
      "DEBUG flower 2023-12-14 10:16:24,742 | server.py:260 | fit_round received 2 results and 0 failures\n"
     ]
    },
    {
     "name": "stdout",
     "output_type": "stream",
     "text": [
      "Privacy budget ε at round 4: 1.4895429732677263\n",
      "Files already downloaded and verified\n"
     ]
    },
    {
     "name": "stderr",
     "output_type": "stream",
     "text": [
      "100%|██████████| 40/40 [00:00<00:00, 49.19it/s]\n"
     ]
    },
    {
     "name": "stdout",
     "output_type": "stream",
     "text": [
      "Test Loss: 1.892157047986984 Test Accuracy: 0.37773437499999996\n"
     ]
    },
    {
     "name": "stderr",
     "output_type": "stream",
     "text": [
      "INFO flower 2023-12-14 10:16:29,025 | server.py:148 | fit progress: (4, 1.892157047986984, {'accuracy': 0.37773437499999996}, 1350.4572543339998)\n",
      "INFO flower 2023-12-14 10:16:29,026 | server.py:199 | evaluate_round: no clients selected, cancel\n",
      "INFO flower 2023-12-14 10:16:29,026 | server.py:172 | FL finished in 1350.457915209\n",
      "INFO flower 2023-12-14 10:16:29,026 | app.py:109 | app_fit: losses_distributed []\n",
      "INFO flower 2023-12-14 10:16:29,026 | app.py:110 | app_fit: metrics_distributed {}\n",
      "INFO flower 2023-12-14 10:16:29,027 | app.py:111 | app_fit: losses_centralized [(0, 2.3198962867259976), (1, 2.3198962867259976), (2, 1.9369868874549865), (3, 1.8917137056589126), (4, 1.892157047986984)]\n",
      "INFO flower 2023-12-14 10:16:29,027 | app.py:112 | app_fit: metrics_centralized {'accuracy': [(0, 0.0845703125), (1, 0.0845703125), (2, 0.3013671875), (3, 0.36464843750000003), (4, 0.37773437499999996)]}\n",
      "INFO flower 2023-12-14 10:16:29,027 | server.py:199 | evaluate_round: no clients selected, cancel\n",
      "INFO flower 2023-12-14 10:16:29,027 | app.py:129 | app_evaluate: no evaluation result\n"
     ]
    }
   ],
   "source": [
    "%run \"~/Desktop/Federated Learning Project/flower_with_opacus/server.py\""
   ]
  },
  {
   "cell_type": "code",
   "execution_count": null,
   "id": "551bafe1",
   "metadata": {},
   "outputs": [],
   "source": []
  },
  {
   "cell_type": "code",
   "execution_count": null,
   "id": "00d6c506",
   "metadata": {},
   "outputs": [],
   "source": []
  }
 ],
 "metadata": {
  "kernelspec": {
   "display_name": "Python 3 (ipykernel)",
   "language": "python",
   "name": "python3"
  },
  "language_info": {
   "codemirror_mode": {
    "name": "ipython",
    "version": 3
   },
   "file_extension": ".py",
   "mimetype": "text/x-python",
   "name": "python",
   "nbconvert_exporter": "python",
   "pygments_lexer": "ipython3",
   "version": "3.11.5"
  }
 },
 "nbformat": 4,
 "nbformat_minor": 5
}
